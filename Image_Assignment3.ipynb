{
  "cells": [
    {
      "cell_type": "markdown",
      "metadata": {
        "id": "view-in-github",
        "colab_type": "text"
      },
      "source": [
        "<a href=\"https://colab.research.google.com/github/sowjanya572/Sowjanya/blob/master/Image_Assignment3.ipynb\" target=\"_parent\"><img src=\"https://colab.research.google.com/assets/colab-badge.svg\" alt=\"Open In Colab\"/></a>"
      ]
    },
    {
      "cell_type": "code",
      "source": [
        "import cv2\n",
        "import numpy as np\n",
        "import os\n",
        "import tensorflow as tf\n",
        "from tensorflow.keras.models import Sequential\n",
        "from tensorflow.keras.layers import Conv2D, MaxPooling2D, Flatten, Dense, Dropout\n",
        "from sklearn.metrics import accuracy_score, f1_score, recall_score\n",
        "from tensorflow.keras.applications import VGG16\n",
        "from sklearn.metrics import confusion_matrix\n"
      ],
      "metadata": {
        "id": "h24k2oyGbeo7"
      },
      "id": "h24k2oyGbeo7",
      "execution_count": 47,
      "outputs": []
    },
    {
      "cell_type": "code",
      "source": [
        "train_dir = \"/content/sample_data/real-vs-fake/train\"\n",
        "test_dir = \"/content/sample_data/real-vs-fake/test\"\n",
        "\n",
        "# Step 1: Data Preprocessing\n",
        "def preprocess_data(data_dir):\n",
        "    X = []\n",
        "    y = []\n",
        "    for folder in os.listdir(data_dir):\n",
        "        if folder == \"real\":\n",
        "            label = 0\n",
        "        else:\n",
        "            label = 1\n",
        "        for file in os.listdir(os.path.join(data_dir, folder)):\n",
        "            img_path = os.path.join(data_dir, folder, file)\n",
        "            img = cv2.imread(img_path, cv2.IMREAD_GRAYSCALE)\n",
        "            img = cv2.resize(img, (64, 64))\n",
        "            img = img.astype(\"float32\") / 255.0\n",
        "            X.append(img)\n",
        "            y.append(label)\n",
        "    X = np.array(X)\n",
        "    y = np.array(y)\n",
        "    return X, y\n",
        "\n",
        "X_train, y_train = preprocess_data(train_dir)\n",
        "X_test, y_test = preprocess_data(test_dir)\n",
        "\n",
        "\n"
      ],
      "metadata": {
        "id": "mYe7L7LebjAW"
      },
      "id": "mYe7L7LebjAW",
      "execution_count": 38,
      "outputs": []
    },
    {
      "cell_type": "code",
      "source": [
        "# Step 2: Building the CNN model\n",
        "model = Sequential()\n",
        "model.add(Conv2D(32, (3, 3), activation=\"relu\", input_shape=(64, 64, 1)))\n",
        "model.add(MaxPooling2D((2, 2)))\n",
        "model.add(Conv2D(64, (3, 3), activation=\"relu\"))\n",
        "model.add(MaxPooling2D((2, 2)))\n",
        "model.add(Flatten())\n",
        "model.add(Dense(128, activation=\"relu\"))\n",
        "model.add(Dropout(0.5))\n",
        "model.add(Dense(1, activation=\"sigmoid\"))"
      ],
      "metadata": {
        "id": "Bx94XQp4btJC"
      },
      "id": "Bx94XQp4btJC",
      "execution_count": 23,
      "outputs": []
    },
    {
      "cell_type": "code",
      "source": [
        "# Step 3: Training the model\n",
        "model.compile(loss=\"binary_crossentropy\", optimizer=\"adam\", metrics=[\"accuracy\"])\n",
        "history = model.fit(X_train, y_train, epochs=10, batch_size=32, validation_data=(X_test, y_test))\n"
      ],
      "metadata": {
        "colab": {
          "base_uri": "https://localhost:8080/"
        },
        "id": "OsyE0dtxbwm6",
        "outputId": "ec397339-09c9-4acb-aeed-98048bf2ea91"
      },
      "id": "OsyE0dtxbwm6",
      "execution_count": 24,
      "outputs": [
        {
          "output_type": "stream",
          "name": "stdout",
          "text": [
            "Epoch 1/10\n",
            "10/10 [==============================] - 7s 535ms/step - loss: 0.7063 - accuracy: 0.4967 - val_loss: 0.6878 - val_accuracy: 0.6367\n",
            "Epoch 2/10\n",
            "10/10 [==============================] - 6s 631ms/step - loss: 0.6788 - accuracy: 0.6333 - val_loss: 0.6743 - val_accuracy: 0.5867\n",
            "Epoch 3/10\n",
            "10/10 [==============================] - 5s 475ms/step - loss: 0.6474 - accuracy: 0.6433 - val_loss: 0.6857 - val_accuracy: 0.5400\n",
            "Epoch 4/10\n",
            "10/10 [==============================] - 4s 361ms/step - loss: 0.6328 - accuracy: 0.6467 - val_loss: 0.6488 - val_accuracy: 0.6467\n",
            "Epoch 5/10\n",
            "10/10 [==============================] - 3s 363ms/step - loss: 0.5624 - accuracy: 0.7267 - val_loss: 0.6517 - val_accuracy: 0.6567\n",
            "Epoch 6/10\n",
            "10/10 [==============================] - 2s 232ms/step - loss: 0.5389 - accuracy: 0.7200 - val_loss: 0.6644 - val_accuracy: 0.6400\n",
            "Epoch 7/10\n",
            "10/10 [==============================] - 2s 209ms/step - loss: 0.5137 - accuracy: 0.7533 - val_loss: 0.6423 - val_accuracy: 0.6633\n",
            "Epoch 8/10\n",
            "10/10 [==============================] - 2s 235ms/step - loss: 0.4745 - accuracy: 0.7700 - val_loss: 0.6471 - val_accuracy: 0.6733\n",
            "Epoch 9/10\n",
            "10/10 [==============================] - 2s 234ms/step - loss: 0.4068 - accuracy: 0.8100 - val_loss: 0.6380 - val_accuracy: 0.6767\n",
            "Epoch 10/10\n",
            "10/10 [==============================] - 3s 361ms/step - loss: 0.3749 - accuracy: 0.8600 - val_loss: 0.6707 - val_accuracy: 0.6867\n"
          ]
        }
      ]
    },
    {
      "cell_type": "code",
      "source": [
        "# Step 4: Evaluating the model\n",
        "y_pred = model.predict(X_test)\n",
        "y_pred_classes = (y_pred > 0.5).astype(\"int32\")\n",
        "# accuracy = accuracy_score(y_test, y_pred_classes)\n",
        "# f1 = f1_score(y_test, y_pred_classes)\n",
        "# recall = recall_score(y_test, y_pred_classes)\n",
        "\n",
        "# print(\"Accuracy:\", accuracy)\n",
        "# print(\"F1-score:\", f1)\n",
        "# print(\"Recall:\", recall)\n",
        "\n",
        "#own code\n",
        "# target_names = ['class 0', 'class 1', 'class 2']\n",
        "# print(classification_report(accuracy, f1,recall))\n",
        "# predict = model.predict(X)\n",
        "# print(classification_report(y, predict))\n"
      ],
      "metadata": {
        "colab": {
          "base_uri": "https://localhost:8080/"
        },
        "id": "56KPHmMpb-fM",
        "outputId": "dd72a350-d32b-429c-ed62-270f6fcb9a79"
      },
      "id": "56KPHmMpb-fM",
      "execution_count": 48,
      "outputs": [
        {
          "output_type": "stream",
          "name": "stdout",
          "text": [
            "10/10 [==============================] - 180s 18s/step\n"
          ]
        }
      ]
    },
    {
      "cell_type": "code",
      "source": [
        "accuracy = accuracy_score(y_test, y_pred_classes)\n",
        "f1 = f1_score(y_test, y_pred_classes)\n",
        "recall = recall_score(y_test, y_pred_classes)\n",
        "\n",
        "print(\"Accuracy:\", accuracy)\n",
        "print(\"F1-score:\", f1)\n",
        "print(\"Recall:\", recall)"
      ],
      "metadata": {
        "colab": {
          "base_uri": "https://localhost:8080/"
        },
        "id": "legeGLr0yAPr",
        "outputId": "87518e27-a373-4f6f-f43d-cbcefd239e00"
      },
      "id": "legeGLr0yAPr",
      "execution_count": 52,
      "outputs": [
        {
          "output_type": "stream",
          "name": "stdout",
          "text": [
            "Accuracy: 0.6966666666666667\n",
            "F1-score: 0.6996699669966996\n",
            "Recall: 0.7066666666666667\n"
          ]
        }
      ]
    },
    {
      "cell_type": "code",
      "source": [
        "# Step 1: Data Preprocessing\n",
        "def preprocess_data(data_dir):\n",
        "    X = []\n",
        "    y = []\n",
        "    for folder in os.listdir(data_dir):\n",
        "        if folder == \"real\":\n",
        "            label = 0\n",
        "        else:\n",
        "            label = 1\n",
        "        for file in os.listdir(os.path.join(data_dir, folder)):\n",
        "            img_path = os.path.join(data_dir, folder, file)\n",
        "            img = cv2.imread(img_path, cv2.IMREAD_COLOR)\n",
        "            img = cv2.resize(img, (224, 224))\n",
        "            img = img.astype(\"float32\") / 255.0\n",
        "            X.append(img)\n",
        "            y.append(label)\n",
        "    X = np.array(X)\n",
        "    y = np.array(y)\n",
        "    return X, y\n",
        "\n",
        "X_train, y_train = preprocess_data(train_dir)\n",
        "X_test, y_test = preprocess_data(test_dir)"
      ],
      "metadata": {
        "id": "nhufRCfvez2N"
      },
      "id": "nhufRCfvez2N",
      "execution_count": 39,
      "outputs": []
    },
    {
      "cell_type": "code",
      "source": [
        "# Step 2: Load pre-trained model\n",
        "base_model = VGG16(weights=\"imagenet\", include_top=False, input_shape=(224, 224, 3))\n",
        "\n"
      ],
      "metadata": {
        "colab": {
          "base_uri": "https://localhost:8080/"
        },
        "id": "POiMk-tgdtie",
        "outputId": "8eae74e5-6af7-4944-e7ae-a241b78df492"
      },
      "id": "POiMk-tgdtie",
      "execution_count": 33,
      "outputs": [
        {
          "output_type": "stream",
          "name": "stdout",
          "text": [
            "Downloading data from https://storage.googleapis.com/tensorflow/keras-applications/vgg16/vgg16_weights_tf_dim_ordering_tf_kernels_notop.h5\n",
            "58889256/58889256 [==============================] - 0s 0us/step\n"
          ]
        }
      ]
    },
    {
      "cell_type": "code",
      "source": [
        "# Step 3: Add new layers and freeze base layers\n",
        "model = Sequential()\n",
        "model.add(base_model)\n",
        "model.add(Flatten())\n",
        "model.add(Dense(128, activation=\"relu\"))\n",
        "model.add(Dropout(0.5))\n",
        "model.add(Dense(1, activation=\"sigmoid\"))\n",
        "for layer in base_model.layers:\n",
        "    layer.trainable = False"
      ],
      "metadata": {
        "id": "h0bgKRf5d5eA"
      },
      "id": "h0bgKRf5d5eA",
      "execution_count": 34,
      "outputs": []
    },
    {
      "cell_type": "code",
      "source": [
        "# Step 4: Train the model on new dataset\n",
        "model.compile(loss=\"binary_crossentropy\", optimizer=\"adam\", metrics=[\"accuracy\"])\n",
        "history = model.fit(X_train, y_train, epochs=10, batch_size=32, validation_data=(X_test, y_test))\n"
      ],
      "metadata": {
        "colab": {
          "base_uri": "https://localhost:8080/"
        },
        "id": "UGl0DOkUd81X",
        "outputId": "46b6bd8a-ffdd-4b5c-eef8-3248cfc1d3e9"
      },
      "id": "UGl0DOkUd81X",
      "execution_count": 40,
      "outputs": [
        {
          "output_type": "stream",
          "name": "stdout",
          "text": [
            "Epoch 1/10\n",
            "10/10 [==============================] - 382s 40s/step - loss: 1.6252 - accuracy: 0.5667 - val_loss: 0.8395 - val_accuracy: 0.6033\n",
            "Epoch 2/10\n",
            "10/10 [==============================] - 381s 40s/step - loss: 0.8485 - accuracy: 0.6700 - val_loss: 0.5903 - val_accuracy: 0.7100\n",
            "Epoch 3/10\n",
            "10/10 [==============================] - 360s 38s/step - loss: 0.5464 - accuracy: 0.7133 - val_loss: 0.6055 - val_accuracy: 0.6800\n",
            "Epoch 4/10\n",
            "10/10 [==============================] - 380s 40s/step - loss: 0.5225 - accuracy: 0.7567 - val_loss: 0.6576 - val_accuracy: 0.6233\n",
            "Epoch 5/10\n",
            "10/10 [==============================] - 381s 40s/step - loss: 0.4042 - accuracy: 0.8367 - val_loss: 0.6016 - val_accuracy: 0.6533\n",
            "Epoch 6/10\n",
            "10/10 [==============================] - 381s 40s/step - loss: 0.3465 - accuracy: 0.8667 - val_loss: 0.6893 - val_accuracy: 0.6933\n",
            "Epoch 7/10\n",
            "10/10 [==============================] - 356s 37s/step - loss: 0.3097 - accuracy: 0.8700 - val_loss: 0.6408 - val_accuracy: 0.7000\n",
            "Epoch 8/10\n",
            "10/10 [==============================] - 380s 40s/step - loss: 0.2472 - accuracy: 0.9100 - val_loss: 0.6406 - val_accuracy: 0.6967\n",
            "Epoch 9/10\n",
            "10/10 [==============================] - 382s 40s/step - loss: 0.2159 - accuracy: 0.9200 - val_loss: 0.6089 - val_accuracy: 0.7000\n",
            "Epoch 10/10\n",
            "10/10 [==============================] - 359s 38s/step - loss: 0.1627 - accuracy: 0.9567 - val_loss: 0.6198 - val_accuracy: 0.6967\n"
          ]
        }
      ]
    },
    {
      "cell_type": "code",
      "source": [
        "# Step 5: Evaluate the fine-tuned model\n",
        "y_pred = model.predict(X_test)\n",
        "y_pred_classes = (y_pred > 0.5).astype(\"int32\")\n",
        "accuracy = accuracy_score(y_test, y_pred_classes)\n",
        "f1 = f1_score(y_test, y_pred_classes)\n",
        "recall = recall_score(y_test, y_pred_classes)\n",
        "\n",
        "print(\"Accuracy:\", accuracy)\n",
        "print(\"F1-score:\", f1)\n",
        "print(\"Recall:\", recall)"
      ],
      "metadata": {
        "colab": {
          "base_uri": "https://localhost:8080/"
        },
        "id": "S-zGIMWvtKSa",
        "outputId": "39652d1d-c764-4775-bcf9-d5f566774b8c"
      },
      "id": "S-zGIMWvtKSa",
      "execution_count": 42,
      "outputs": [
        {
          "output_type": "stream",
          "name": "stdout",
          "text": [
            "10/10 [==============================] - 180s 18s/step\n",
            "Accuracy: 0.6966666666666667\n",
            "F1-score: 0.6996699669966996\n",
            "Recall: 0.7066666666666667\n"
          ]
        }
      ]
    }
  ],
  "metadata": {
    "kernelspec": {
      "display_name": "Python 3 (ipykernel)",
      "language": "python",
      "name": "python3"
    },
    "language_info": {
      "codemirror_mode": {
        "name": "ipython",
        "version": 3
      },
      "file_extension": ".py",
      "mimetype": "text/x-python",
      "name": "python",
      "nbconvert_exporter": "python",
      "pygments_lexer": "ipython3",
      "version": "3.8.8"
    },
    "colab": {
      "provenance": [],
      "toc_visible": true,
      "include_colab_link": true
    }
  },
  "nbformat": 4,
  "nbformat_minor": 5
}