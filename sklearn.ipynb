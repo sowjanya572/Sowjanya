{
  "cells": [
    {
      "cell_type": "markdown",
      "metadata": {
        "id": "view-in-github",
        "colab_type": "text"
      },
      "source": [
        "<a href=\"https://colab.research.google.com/github/sowjanya572/Sowjanya/blob/master/sklearn.ipynb\" target=\"_parent\"><img src=\"https://colab.research.google.com/assets/colab-badge.svg\" alt=\"Open In Colab\"/></a>"
      ]
    },
    {
      "cell_type": "code",
      "execution_count": 12,
      "id": "c6fe7828",
      "metadata": {
        "id": "c6fe7828"
      },
      "outputs": [],
      "source": [
        "import sklearn\n",
        "from PIL import Image\n",
        "import os\n",
        "from sklearn import svm\n",
        "from sklearn.metrics import classification_report\n",
        "from skimage.feature import hog\n",
        "from skimage.feature import local_binary_pattern\n",
        "from skimage.color import rgb2gray"
      ]
    },
    {
      "cell_type": "code",
      "execution_count": 15,
      "id": "6810ce40",
      "metadata": {
        "id": "6810ce40"
      },
      "outputs": [],
      "source": [
        "subpath = [\"fake\",\"real\"]\n",
        "dir = \"/content/sample_data/real-vs-fake/train\"\n",
        "training_data = []\n",
        "training_lab = []\n",
        "for i in subpath:\n",
        "  path = os.path.join(dir,i)\n",
        "  for j in os.listdir(path):\n",
        "    features = local_binary_pattern(rgb2gray(Image.open(os.path.join(path,j))), P=8, R=1, method=\"uniform\").flatten()\n",
        "    training_data.append(features)\n",
        "    training_lab.append(i) "
      ]
    },
    {
      "cell_type": "code",
      "execution_count": 16,
      "id": "ccae962e",
      "metadata": {
        "id": "ccae962e"
      },
      "outputs": [],
      "source": [
        "subpath = [\"fake\",\"real\"]\n",
        "dir = \"/content/sample_data/real-vs-fake/test\"\n",
        "testing_data = []\n",
        "testing_lab = []\n",
        "for i in subpath:\n",
        "  path = os.path.join(dir,i)\n",
        "  for j in os.listdir(path):\n",
        "    features = local_binary_pattern(rgb2gray(Image.open(os.path.join(path,j))), P=8, R=1, method=\"uniform\").flatten()\n",
        "    testing_data.append(features)\n",
        "    testing_lab.append(i) "
      ]
    },
    {
      "cell_type": "code",
      "source": [
        "model = svm.SVC(                        \n",
        "    kernel='linear', degree=3, gamma='scale',                  \n",
        "    tol=0.001, cache_size=200, decision_function_shape='ovr',  \n",
        "    break_ties=False, random_state=None               \n",
        ").fit(training_data, training_lab)\n",
        "\n",
        "predict = model.predict(testing_data)\n",
        "\n",
        "print(classification_report(testing_lab, predict))"
      ],
      "metadata": {
        "colab": {
          "base_uri": "https://localhost:8080/"
        },
        "id": "TYGRlbE5W_Hn",
        "outputId": "51b3ca0a-c0d2-4a55-deae-d390c011160a"
      },
      "id": "TYGRlbE5W_Hn",
      "execution_count": 17,
      "outputs": [
        {
          "output_type": "stream",
          "name": "stdout",
          "text": [
            "              precision    recall  f1-score   support\n",
            "\n",
            "        fake       0.66      0.61      0.63       150\n",
            "        real       0.64      0.69      0.66       150\n",
            "\n",
            "    accuracy                           0.65       300\n",
            "   macro avg       0.65      0.65      0.65       300\n",
            "weighted avg       0.65      0.65      0.65       300\n",
            "\n"
          ]
        }
      ]
    },
    {
      "cell_type": "code",
      "source": [
        "subpath = [\"fake\",\"real\"]\n",
        "dir = \"/content/sample_data/real-vs-fake/train\"\n",
        "training_data = []\n",
        "training_lab = []\n",
        "for i in subpath:\n",
        "  path = os.path.join(dir,i)\n",
        "  for j in os.listdir(path):\n",
        "    features = hog(rgb2gray(Image.open(os.path.join(path,j))), orientations=4, pixels_per_cell=(16, 16))\n",
        "    training_data.append(features)\n",
        "    training_lab.append(i) \n",
        "\n",
        "subpath = [\"fake\",\"real\"]\n",
        "dir = \"/content/sample_data/real-vs-fake/test\"\n",
        "testing_data = []\n",
        "testing_lab = []\n",
        "for i in subpath:\n",
        "  path = os.path.join(dir,i)\n",
        "  for j in os.listdir(path):\n",
        "    features = hog(rgb2gray(Image.open(os.path.join(path,j))), orientations=4, pixels_per_cell=(16, 16))\n",
        "    testing_data.append(features)\n",
        "    testing_lab.append(i) \n",
        "\n",
        "\n",
        "model = svm.SVC(                        \n",
        "    kernel='linear', degree=3, gamma='scale',                  \n",
        "    tol=0.001, cache_size=200, decision_function_shape='ovr',  \n",
        "    break_ties=False, random_state=None               \n",
        ").fit(training_data, training_lab)\n",
        "\n",
        "predict = model.predict(testing_data)\n",
        "\n",
        "print(classification_report(testing_lab, predict))"
      ],
      "metadata": {
        "colab": {
          "base_uri": "https://localhost:8080/"
        },
        "id": "MTE1zwwmXI1f",
        "outputId": "473023b8-e859-4e03-c2f0-cac5882286f7"
      },
      "id": "MTE1zwwmXI1f",
      "execution_count": 20,
      "outputs": [
        {
          "output_type": "stream",
          "name": "stdout",
          "text": [
            "              precision    recall  f1-score   support\n",
            "\n",
            "        fake       0.65      0.74      0.69       150\n",
            "        real       0.70      0.59      0.64       150\n",
            "\n",
            "    accuracy                           0.67       300\n",
            "   macro avg       0.67      0.67      0.66       300\n",
            "weighted avg       0.67      0.67      0.66       300\n",
            "\n"
          ]
        }
      ]
    }
  ],
  "metadata": {
    "kernelspec": {
      "display_name": "Python 3 (ipykernel)",
      "language": "python",
      "name": "python3"
    },
    "language_info": {
      "codemirror_mode": {
        "name": "ipython",
        "version": 3
      },
      "file_extension": ".py",
      "mimetype": "text/x-python",
      "name": "python",
      "nbconvert_exporter": "python",
      "pygments_lexer": "ipython3",
      "version": "3.8.8"
    },
    "colab": {
      "provenance": [],
      "include_colab_link": true
    }
  },
  "nbformat": 4,
  "nbformat_minor": 5
}